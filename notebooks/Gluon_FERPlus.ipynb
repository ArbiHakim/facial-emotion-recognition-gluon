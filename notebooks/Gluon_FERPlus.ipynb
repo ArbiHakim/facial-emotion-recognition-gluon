{
 "cells": [
  {
   "cell_type": "code",
   "execution_count": 1,
   "metadata": {},
   "outputs": [],
   "source": [
    "import numpy as np\n",
    "import mxnet as mx\n",
    "from mxnet import nd, autograd, gluon"
   ]
  },
  {
   "cell_type": "code",
   "execution_count": 2,
   "metadata": {},
   "outputs": [],
   "source": [
    "processed_train_images = np.load('./data/fer_train_processed_images.npy')\n",
    "processed_train_labels = np.load('./data/fer_train_processed_labels.npy')"
   ]
  },
  {
   "cell_type": "code",
   "execution_count": 3,
   "metadata": {},
   "outputs": [
    {
     "name": "stdout",
     "output_type": "stream",
     "text": [
      "(25045, 1, 64, 64) (25045, 8)\n"
     ]
    }
   ],
   "source": [
    "print(processed_train_images.shape, processed_train_labels.shape)"
   ]
  },
  {
   "cell_type": "code",
   "execution_count": 4,
   "metadata": {},
   "outputs": [],
   "source": [
    "from matplotlib import pyplot as plt"
   ]
  },
  {
   "cell_type": "code",
   "execution_count": 5,
   "metadata": {},
   "outputs": [
    {
     "data": {
      "text/plain": [
       "<matplotlib.image.AxesImage at 0x7fcc929ac898>"
      ]
     },
     "execution_count": 5,
     "metadata": {},
     "output_type": "execute_result"
    },
    {
     "data": {
      "image/png": "[encoded data removed]",
      "text/plain": [
       "<Figure size 432x288 with 1 Axes>"
      ]
     },
     "metadata": {},
     "output_type": "display_data"
    }
   ],
   "source": [
    "plt.imshow(processed_train_images[234].reshape(64,64), cmap='gray')"
   ]
  },
  {
   "cell_type": "code",
   "execution_count": 7,
   "metadata": {},
   "outputs": [],
   "source": [
    "processed_test_images = np.load('./data/fer_test_processed_images.npy')\n",
    "processed_test_labels = np.load('./data/fer_test_processed_labels.npy')\n",
    "processed_val_images = np.load('./data/fer_val_processed_images.npy')\n",
    "processed_val_labels = np.load('./data/fer_val_processed_labels.npy')"
   ]
  },
  {
   "cell_type": "code",
   "execution_count": 8,
   "metadata": {},
   "outputs": [
    {
     "name": "stdout",
     "output_type": "stream",
     "text": [
      "(3137, 1, 64, 64) (3137, 8)\n"
     ]
    }
   ],
   "source": [
    "print(processed_test_images.shape, processed_test_labels.shape)"
   ]
  },
  {
   "cell_type": "code",
   "execution_count": 9,
   "metadata": {},
   "outputs": [
    {
     "name": "stdout",
     "output_type": "stream",
     "text": [
      "(3191, 1, 64, 64) (3191, 8)\n"
     ]
    }
   ],
   "source": [
    "print(processed_val_images.shape, processed_val_labels.shape)"
   ]
  },
  {
   "cell_type": "code",
   "execution_count": 10,
   "metadata": {},
   "outputs": [],
   "source": [
    "# Set this to ctx = mx.cpu() if running on CPU. \n",
    "# However, please note, it takes approx. 1.1 min/epoch on 1 GPU => Can take longer time on cPU\n",
    "\n",
    "ctx = mx.gpu()"
   ]
  },
  {
   "cell_type": "code",
   "execution_count": 11,
   "metadata": {},
   "outputs": [],
   "source": [
    "# 13 layer VGGNet\n",
    "net = gluon.nn.Sequential()\n",
    "with net.name_scope():\n",
    "    net.add(gluon.nn.Conv2D(channels=64, kernel_size=3, padding=(1,1), activation='relu'))\n",
    "    net.add(gluon.nn.Conv2D(channels=64, kernel_size=3, padding=(1,1), activation='relu'))\n",
    "    net.add(gluon.nn.MaxPool2D(pool_size=2, strides=2))\n",
    "    net.add(gluon.nn.Dropout(0.25))\n",
    "    \n",
    "    net.add(gluon.nn.Conv2D(channels=128, kernel_size=3, padding=(1,1), activation='relu'))\n",
    "    net.add(gluon.nn.Conv2D(channels=128, kernel_size=3, padding=(1,1), activation='relu'))\n",
    "    net.add(gluon.nn.MaxPool2D(pool_size=2, strides=2))\n",
    "    net.add(gluon.nn.Dropout(0.25))\n",
    "    \n",
    "    net.add(gluon.nn.Conv2D(channels=256, kernel_size=3, padding=(1,1), activation='relu'))\n",
    "    net.add(gluon.nn.Conv2D(channels=256, kernel_size=3, padding=(1,1), activation='relu'))\n",
    "    net.add(gluon.nn.Conv2D(channels=256, kernel_size=3, padding=(1,1), activation='relu'))\n",
    "    net.add(gluon.nn.MaxPool2D(pool_size=2, strides=2))\n",
    "    net.add(gluon.nn.Dropout(0.25))\n",
    "    \n",
    "    net.add(gluon.nn.Conv2D(channels=256, kernel_size=3, padding=(1,1), activation='relu'))\n",
    "    net.add(gluon.nn.Conv2D(channels=256, kernel_size=3, padding=(1,1), activation='relu'))\n",
    "    net.add(gluon.nn.Conv2D(channels=256, kernel_size=3, padding=(1,1), activation='relu'))\n",
    "    net.add(gluon.nn.MaxPool2D(pool_size=2, strides=2))\n",
    "    net.add(gluon.nn.Dropout(0.25))\n",
    "    \n",
    "    net.add(gluon.nn.Flatten())\n",
    "    net.add(gluon.nn.Dense(1024, activation='relu'))\n",
    "    net.add(gluon.nn.Dropout(0.5))\n",
    "    net.add(gluon.nn.Dense(1024, activation='relu'))\n",
    "    net.add(gluon.nn.Dropout(0.5))\n",
    "    net.add(gluon.nn.Dense(8))"
   ]
  },
  {
   "cell_type": "code",
   "execution_count": 12,
   "metadata": {},
   "outputs": [],
   "source": [
    "net.collect_params().initialize(mx.init.Xavier(), ctx=ctx)\n",
    "nd.waitall()"
   ]
  },
  {
   "cell_type": "code",
   "execution_count": 13,
   "metadata": {},
   "outputs": [],
   "source": [
    "# Use MXBOARD here to visualize network\n",
    "# x = mx.sym.var('data')\n",
    "# sym = net(x)\n",
    "# mx.viz.plot_network(sym)"
   ]
  },
  {
   "cell_type": "code",
   "execution_count": 14,
   "metadata": {},
   "outputs": [],
   "source": [
    "softmax_cross_entropy = gluon.loss.SoftmaxCrossEntropyLoss()"
   ]
  },
  {
   "cell_type": "code",
   "execution_count": 15,
   "metadata": {},
   "outputs": [],
   "source": [
    "batch_size = 32\n",
    "\n",
    "trainer = gluon.Trainer(net.collect_params(), 'sgd', {'learning_rate': 0.0025, 'momentum':0.9})"
   ]
  },
  {
   "cell_type": "code",
   "execution_count": 16,
   "metadata": {},
   "outputs": [],
   "source": [
    "def evaluate_accuracy(data_iterator, net):\n",
    "    acc = mx.metric.Accuracy()\n",
    "    for i, (data, label) in enumerate(data_iterator):\n",
    "        data = data.as_in_context(ctx)\n",
    "        label = label.as_in_context(ctx)\n",
    "        output = net(data)\n",
    "        predictions = nd.argmax(output, axis=1)\n",
    "        acc.update(preds=predictions, labels=label)\n",
    "    return acc.get()[1]"
   ]
  },
  {
   "cell_type": "code",
   "execution_count": 17,
   "metadata": {},
   "outputs": [],
   "source": [
    "train_labels = np.argmax(processed_train_labels, axis=1)\n",
    "val_labels = np.argmax(processed_val_labels, axis=1)\n",
    "\n",
    "train_data = gluon.data.DataLoader(gluon.data.ArrayDataset(processed_train_images, train_labels), batch_size = batch_size, shuffle=True)\n",
    "val_data = gluon.data.DataLoader(gluon.data.ArrayDataset(processed_val_images, val_labels), batch_size = batch_size)"
   ]
  },
  {
   "cell_type": "code",
   "execution_count": null,
   "metadata": {},
   "outputs": [
    {
     "name": "stdout",
     "output_type": "stream",
     "text": [
      "Epoch 0. Loss: 2.07468, Train_acc 0.208265122779, Test_acc 0.194923221561\n",
      "Epoch 1. Loss: 2.07729, Train_acc 0.208265122779, Test_acc 0.194923221561\n",
      "Epoch 2. Loss: 2.07774, Train_acc 0.208265122779, Test_acc 0.194923221561\n",
      "Epoch 3. Loss: 2.08664, Train_acc 0.208265122779, Test_acc 0.194923221561\n",
      "Epoch 4. Loss: 2.08884, Train_acc 0.208265122779, Test_acc 0.194923221561\n",
      "Epoch 5. Loss: 2.08091, Train_acc 0.208265122779, Test_acc 0.194923221561\n",
      "Epoch 6. Loss: 2.08608, Train_acc 0.208265122779, Test_acc 0.194923221561\n",
      "Epoch 7. Loss: 2.07691, Train_acc 0.208265122779, Test_acc 0.194923221561\n",
      "Epoch 8. Loss: 2.08907, Train_acc 0.208265122779, Test_acc 0.194923221561\n",
      "Epoch 9. Loss: 2.0777, Train_acc 0.208265122779, Test_acc 0.194923221561\n",
      "Epoch 10. Loss: 2.07125, Train_acc 0.208265122779, Test_acc 0.194923221561\n",
      "Epoch 11. Loss: 2.07999, Train_acc 0.208265122779, Test_acc 0.194923221561\n",
      "Epoch 12. Loss: 2.0735, Train_acc 0.208265122779, Test_acc 0.194923221561\n",
      "Epoch 13. Loss: 2.08091, Train_acc 0.208265122779, Test_acc 0.194923221561\n",
      "Epoch 14. Loss: 2.0801, Train_acc 0.208265122779, Test_acc 0.194923221561\n",
      "Epoch 15. Loss: 2.08073, Train_acc 0.208265122779, Test_acc 0.194923221561\n",
      "Epoch 16. Loss: 2.07823, Train_acc 0.208265122779, Test_acc 0.194923221561\n",
      "Epoch 17. Loss: 2.07683, Train_acc 0.208265122779, Test_acc 0.194923221561\n",
      "Epoch 18. Loss: 2.08453, Train_acc 0.208265122779, Test_acc 0.194923221561\n",
      "Epoch 19. Loss: 2.07255, Train_acc 0.208265122779, Test_acc 0.194923221561\n",
      "Epoch 20. Loss: 2.09174, Train_acc 0.208265122779, Test_acc 0.194923221561\n",
      "Epoch 21. Loss: 2.07684, Train_acc 0.208265122779, Test_acc 0.194923221561\n",
      "Epoch 22. Loss: 2.07939, Train_acc 0.208265122779, Test_acc 0.194923221561\n"
     ]
    }
   ],
   "source": [
    "epochs = 100\n",
    "\n",
    "train_accuracies = []\n",
    "losses = []\n",
    "val_accuracies = []\n",
    "\n",
    "for e in range(epochs):\n",
    "    batch = 0\n",
    "    for i, (data, label) in enumerate(train_data):\n",
    "        data = data.as_in_context(ctx)\n",
    "        label = label.as_in_context(ctx)\n",
    "        with autograd.record():\n",
    "            output = net(data)\n",
    "            loss = softmax_cross_entropy(output, label)\n",
    "        loss.backward()\n",
    "        curr_loss = nd.mean(loss).asscalar()\n",
    "        batch +=1        \n",
    "\n",
    "    val_accuracy = evaluate_accuracy(val_data, net)\n",
    "    train_accuracy = evaluate_accuracy(train_data, net)\n",
    "    \n",
    "    losses.append(curr_loss)\n",
    "    train_accuracies.append(train_accuracy)\n",
    "    val_accuracies.append(val_accuracy)\n",
    "    \n",
    "    print(\"Epoch %s. Loss: %s, Train_acc %s, Test_acc %s\" % (e, curr_loss, train_accuracy, val_accuracy))\n",
    "    "
   ]
  },
  {
   "cell_type": "code",
   "execution_count": null,
   "metadata": {},
   "outputs": [],
   "source": [
    "# Test accuracy\n",
    "\n",
    "acc = mx.metric.Accuracy()\n",
    "test_labels = np.argmax(processed_test_labels, axis=1)\n",
    "data_iterator = gluon.data.DataLoader(gluon.data.ArrayDataset(processed_test_images, test_labels), batch_size = 32)\n",
    "for i, (data, label) in enumerate(data_iterator):\n",
    "    data = data.as_in_context(ctx)\n",
    "    label = label.as_in_context(ctx)\n",
    "    output = net(data)\n",
    "    predictions = nd.argmax(output, axis=1)\n",
    "    acc.update(preds=predictions, labels=label)\n",
    "print(acc.get()[1])"
   ]
  },
  {
   "cell_type": "code",
   "execution_count": null,
   "metadata": {},
   "outputs": [],
   "source": [
    "# for plotting purposes\n",
    "%matplotlib inline\n",
    "import matplotlib\n",
    "import matplotlib.pyplot as plt\n",
    "\n",
    "epochs = range(len(train_accuracies))\n",
    "\n",
    "f = plt.figure(figsize=(12,6))\n",
    "fg1 = f.add_subplot(121)\n",
    "fg2 = f.add_subplot(122)\n",
    "\n",
    "fg1.set_xlabel('epoch',fontsize=14)  \n",
    "fg1.set_title('Loss over Training')\n",
    "fg1.grid(True, which=\"both\")\n",
    "fg1.plot(epochs, losses)\n",
    "\n",
    "fg2.set_title('Comparing accuracy')\n",
    "fg2.set_xlabel('epoch', fontsize=14)\n",
    "fg2.grid(True, which=\"both\")\n",
    "\n",
    "p1, = fg2.plot(epochs, train_accuracies)\n",
    "p2, = fg2.plot(epochs, val_accuracies)\n",
    "fg2.legend([p1, p2], ['training accuracy', 'testing accuracy'],fontsize=14)"
   ]
  }
 ],
 "metadata": {
  "kernelspec": {
   "display_name": "Environment (conda_mxnet_p36)",
   "language": "python",
   "name": "conda_mxnet_p36"
  },
  "language_info": {
   "codemirror_mode": {
    "name": "ipython",
    "version": 3
   },
   "file_extension": ".py",
   "mimetype": "text/x-python",
   "name": "python",
   "nbconvert_exporter": "python",
   "pygments_lexer": "ipython3",
   "version": "3.6.6"
  }
 },
 "nbformat": 4,
 "nbformat_minor": 2
}
